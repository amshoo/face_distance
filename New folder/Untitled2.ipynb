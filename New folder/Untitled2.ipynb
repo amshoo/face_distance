{
 "cells": [
  {
   "cell_type": "code",
   "execution_count": 19,
   "metadata": {},
   "outputs": [
    {
     "ename": "NameError",
     "evalue": "name 'l_open_img' is not defined",
     "output_type": "error",
     "traceback": [
      "\u001b[1;31m---------------------------------------------------------------------------\u001b[0m",
      "\u001b[1;31mNameError\u001b[0m                                 Traceback (most recent call last)",
      "\u001b[1;32m<ipython-input-19-82f3d20b7900>\u001b[0m in \u001b[0;36m<module>\u001b[1;34m\u001b[0m\n\u001b[0;32m     56\u001b[0m              anchor='n')\n\u001b[0;32m     57\u001b[0m \u001b[1;31m#btn1 ----------------------------------------------------------------------\u001b[0m\u001b[1;33m\u001b[0m\u001b[1;33m\u001b[0m\u001b[0m\n\u001b[1;32m---> 58\u001b[1;33m \u001b[0mbtn\u001b[0m \u001b[1;33m=\u001b[0m \u001b[0mButton\u001b[0m\u001b[1;33m(\u001b[0m\u001b[0mframe\u001b[0m\u001b[1;33m,\u001b[0m \u001b[0mtext\u001b[0m\u001b[1;33m=\u001b[0m\u001b[1;34m'Load left image'\u001b[0m\u001b[1;33m,\u001b[0m \u001b[0mcommand\u001b[0m\u001b[1;33m=\u001b[0m\u001b[0ml_open_img\u001b[0m\u001b[1;33m)\u001b[0m\u001b[1;33m.\u001b[0m\u001b[0mplace\u001b[0m\u001b[1;33m(\u001b[0m\u001b[0mx\u001b[0m\u001b[1;33m=\u001b[0m\u001b[1;36m100\u001b[0m\u001b[1;33m,\u001b[0m \u001b[0manchor\u001b[0m\u001b[1;33m=\u001b[0m\u001b[1;34m'n'\u001b[0m\u001b[1;33m)\u001b[0m\u001b[1;33m\u001b[0m\u001b[0m\n\u001b[0m\u001b[0;32m     59\u001b[0m \u001b[0mbtn\u001b[0m \u001b[1;33m=\u001b[0m \u001b[0mButton\u001b[0m\u001b[1;33m(\u001b[0m\u001b[0mframe\u001b[0m\u001b[1;33m,\u001b[0m \u001b[0mtext\u001b[0m\u001b[1;33m=\u001b[0m\u001b[1;34m'Load right image'\u001b[0m\u001b[1;33m,\u001b[0m \u001b[0mcommand\u001b[0m\u001b[1;33m=\u001b[0m\u001b[0mr_open_img\u001b[0m\u001b[1;33m)\u001b[0m\u001b[1;33m.\u001b[0m\u001b[0mplace\u001b[0m\u001b[1;33m(\u001b[0m\u001b[0mx\u001b[0m\u001b[1;33m=\u001b[0m\u001b[1;36m520\u001b[0m\u001b[1;33m,\u001b[0m \u001b[0manchor\u001b[0m\u001b[1;33m=\u001b[0m\u001b[1;34m'n'\u001b[0m\u001b[1;33m)\u001b[0m\u001b[1;33m\u001b[0m\u001b[0m\n\u001b[0;32m     60\u001b[0m \u001b[0mmatch_btn\u001b[0m \u001b[1;33m=\u001b[0m \u001b[0mButton\u001b[0m\u001b[1;33m(\u001b[0m\u001b[0mframe\u001b[0m\u001b[1;33m,\u001b[0m \u001b[0mtext\u001b[0m\u001b[1;33m=\u001b[0m\u001b[1;34m'match image'\u001b[0m\u001b[1;33m,\u001b[0m \u001b[0mcommand\u001b[0m\u001b[1;33m=\u001b[0m\u001b[0mimages\u001b[0m\u001b[1;33m)\u001b[0m\u001b[1;33m.\u001b[0m\u001b[0mpack\u001b[0m\u001b[1;33m(\u001b[0m\u001b[1;33m)\u001b[0m\u001b[1;33m\u001b[0m\u001b[0m\n",
      "\u001b[1;31mNameError\u001b[0m: name 'l_open_img' is not defined"
     ]
    }
   ],
   "source": [
    "import tkinter as tk\n",
    "from tkinter import *\n",
    "from tkinter import font\n",
    "from PIL import ImageTk, Image\n",
    "from tkinter import filedialog\n",
    "import os\n",
    "\n",
    "root = tk.Tk()\n",
    "root.resizable(0, 0) \n",
    "\n",
    "HEIGHT=510\n",
    "WIDTH=900\n",
    "\n",
    "\n",
    "#canvas------------------------------------------------------------------------\n",
    "canvas =tk.Canvas(root,height=HEIGHT, width=WIDTH)\n",
    "canvas.pack()\n",
    "\n",
    "title = Label(root,text=\"Face_Match\", font=(\"Helvetica\", 20))\n",
    "title.place(x=300, y=10)\n",
    "\n",
    "#frame 1---------------------------------------------------------\n",
    "frame = tk.Frame(root, highlightbackground=\"gray\", \n",
    "                 highlightcolor=\"gray\", \n",
    "                 highlightthickness=1.5, \n",
    "                 bd=10)\n",
    "\n",
    "frame.place(x=400, y=60 ,\n",
    "            width=700, height=300, \n",
    "            anchor='n')\n",
    "\n",
    "#frame 2-----------------------------------------------------------\n",
    "\n",
    "frame2 = tk.Frame(frame, highlightbackground=\"gray\", \n",
    "                  highlightcolor=\"white\", \n",
    "                  highlightthickness=1.5, \n",
    "                  bd=10)\n",
    "frame2.place(x=100,y=50, width=200, \n",
    "             height=200, \n",
    "             anchor='n')\n",
    "#frame 3-----------------------------------------------------------\n",
    "frame3 = tk.Frame(frame, highlightbackground=\"gray\", \n",
    "                  highlightcolor=\"white\", \n",
    "                  highlightthickness=1.5, \n",
    "                  bd=10)\n",
    "frame3.place(x=520,y=50, width=200, \n",
    "             height=200, \n",
    "             anchor='n')\n",
    "#frame 4-----------------------------------------------------------\n",
    "frame4 = tk.Frame(root, highlightbackground=\"gray\", \n",
    "                  highlightcolor=\"white\", \n",
    "                  highlightthickness=1.5, \n",
    "                  bd=10)\n",
    "frame4.place(x=400,y=370, width=700, \n",
    "             height=100, \n",
    "             anchor='n')\n",
    "#btn1 ----------------------------------------------------------------------\n",
    "btn = Button(frame, text='Load left image', command=l_open_img).place(x=100, anchor='n')\n",
    "btn = Button(frame, text='Load right image', command=r_open_img).place(x=520, anchor='n')\n",
    "match_btn = Button(frame, text='match image', command=images).pack()\n",
    "\n",
    "\n",
    "#print result\n",
    "print_result = Label(frame4, text='', font=(\"Helvetica\", 10)) \n",
    "print_result.place(x=20,y=20)\n",
    "\n",
    "root.mainloop()"
   ]
  },
  {
   "cell_type": "code",
   "execution_count": null,
   "metadata": {},
   "outputs": [],
   "source": []
  },
  {
   "cell_type": "code",
   "execution_count": null,
   "metadata": {},
   "outputs": [],
   "source": []
  }
 ],
 "metadata": {
  "kernelspec": {
   "display_name": "Python 3",
   "language": "python",
   "name": "python3"
  },
  "language_info": {
   "codemirror_mode": {
    "name": "ipython",
    "version": 3
   },
   "file_extension": ".py",
   "mimetype": "text/x-python",
   "name": "python",
   "nbconvert_exporter": "python",
   "pygments_lexer": "ipython3",
   "version": "3.6.6"
  }
 },
 "nbformat": 4,
 "nbformat_minor": 2
}
